{
 "cells": [
  {
   "cell_type": "markdown",
   "metadata": {},
   "source": [
    "# Collaborative Filtering\n",
    "\n",
    "#### Some theoretical Background\n",
    "\n",
    "[Link](https://realpython.com/build-recommendation-engine-collaborative-filtering/)\n",
    "\n",
    "### User-Based vs Item-Based Collaborative Filtering\n",
    "\n",
    "The two approaches are mathematically quite similar, but there is a conceptual difference between the two. Here’s how the two compare:\n",
    "\n",
    "+ **User-based**: For a user U, with a set of similar users determined based on rating vectors consisting of given item ratings, the rating for an item I, which hasn’t been rated, is found by picking out N users from the similarity list who have rated the item I and calculating the rating based on these N ratings.\n",
    "\n",
    "+ **Item-based**: For an item I, with a set of similar items determined based on rating vectors consisting of received user ratings, the rating by a user U, who hasn’t rated it, is found by picking out N items from the similarity list that have been rated by U and calculating the rating based on these N ratings."
   ]
  },
  {
   "cell_type": "markdown",
   "metadata": {},
   "source": [
    "## Import Packages"
   ]
  },
  {
   "cell_type": "code",
   "execution_count": 247,
   "metadata": {},
   "outputs": [],
   "source": [
    "import pandas as pd\n",
    "import numpy as np\n",
    "\n",
    "import matplotlib.pyplot as plt\n",
    "import seaborn as sns"
   ]
  },
  {
   "cell_type": "markdown",
   "metadata": {},
   "source": [
    "### Surprise Library"
   ]
  },
  {
   "cell_type": "code",
   "execution_count": 248,
   "metadata": {},
   "outputs": [],
   "source": [
    "from surprise import Dataset\n",
    "from surprise import Reader\n",
    "\n",
    "from surprise import BaselineOnly\n",
    "from surprise import KNNBasic\n",
    "from surprise import KNNWithMeans\n",
    "from surprise import SVD\n",
    "from surprise import accuracy\n",
    "from surprise import SlopeOne\n",
    "from surprise import SVDpp\n",
    "from surprise import NMF\n",
    "from surprise import NormalPredictor\n",
    "from surprise import KNNBaseline\n",
    "from surprise import KNNWithZScore\n",
    "from surprise import CoClustering\n",
    "\n",
    "from surprise.model_selection import cross_validate\n",
    "from surprise.model_selection import train_test_split\n",
    "from surprise.model_selection import GridSearchCV\n",
    "\n",
    "from surprise import accuracy\n",
    "\n",
    "RSEED = 42"
   ]
  },
  {
   "cell_type": "markdown",
   "metadata": {},
   "source": [
    "#### Import Data"
   ]
  },
  {
   "cell_type": "code",
   "execution_count": 249,
   "metadata": {},
   "outputs": [],
   "source": [
    "movies = pd.read_csv('../data/ml-latest-small/movies.csv')\n",
    "ratings = pd.read_csv('../data/ml-latest-small/ratings.csv')\n",
    "#links = pd.read_csv('../data/ml-latest-small/links.csv')\n",
    "#tags = pd.read_csv('../data/ml-latest-small/tags.csv')"
   ]
  },
  {
   "cell_type": "code",
   "execution_count": 250,
   "metadata": {},
   "outputs": [
    {
     "data": {
      "text/plain": [
       "count    100836.000000\n",
       "mean          3.501557\n",
       "std           1.042529\n",
       "min           0.500000\n",
       "25%           3.000000\n",
       "50%           3.500000\n",
       "75%           4.000000\n",
       "max           5.000000\n",
       "Name: rating, dtype: float64"
      ]
     },
     "execution_count": 250,
     "metadata": {},
     "output_type": "execute_result"
    }
   ],
   "source": [
    "ratings['rating'].describe()"
   ]
  },
  {
   "cell_type": "code",
   "execution_count": 251,
   "metadata": {},
   "outputs": [
    {
     "data": {
      "text/html": [
       "<div>\n",
       "<style scoped>\n",
       "    .dataframe tbody tr th:only-of-type {\n",
       "        vertical-align: middle;\n",
       "    }\n",
       "\n",
       "    .dataframe tbody tr th {\n",
       "        vertical-align: top;\n",
       "    }\n",
       "\n",
       "    .dataframe thead th {\n",
       "        text-align: right;\n",
       "    }\n",
       "</style>\n",
       "<table border=\"1\" class=\"dataframe\">\n",
       "  <thead>\n",
       "    <tr style=\"text-align: right;\">\n",
       "      <th></th>\n",
       "      <th>movieId</th>\n",
       "      <th>rating</th>\n",
       "    </tr>\n",
       "  </thead>\n",
       "  <tbody>\n",
       "    <tr>\n",
       "      <th>0</th>\n",
       "      <td>1</td>\n",
       "      <td>215</td>\n",
       "    </tr>\n",
       "    <tr>\n",
       "      <th>1</th>\n",
       "      <td>2</td>\n",
       "      <td>110</td>\n",
       "    </tr>\n",
       "  </tbody>\n",
       "</table>\n",
       "</div>"
      ],
      "text/plain": [
       "   movieId  rating\n",
       "0        1     215\n",
       "1        2     110"
      ]
     },
     "execution_count": 251,
     "metadata": {},
     "output_type": "execute_result"
    }
   ],
   "source": [
    "# total number of ratings per movie\n",
    "movie_rat_count = ratings.groupby('movieId').count()['rating'].reset_index()\n",
    "movie_rat_count.head(2)"
   ]
  },
  {
   "cell_type": "code",
   "execution_count": 252,
   "metadata": {},
   "outputs": [
    {
     "data": {
      "text/plain": [
       "110"
      ]
     },
     "execution_count": 252,
     "metadata": {},
     "output_type": "execute_result"
    }
   ],
   "source": [
    "# extract one rating count for a given movie (here movie 2)\n",
    "num = movie_rat_count[movie_rat_count['movieId'] == 2].reset_index()\n",
    "num = num.loc[0, 'rating']\n",
    "num"
   ]
  },
  {
   "cell_type": "markdown",
   "metadata": {},
   "source": [
    "#### Define Reader &\n",
    "#### Load the data frame into data (here: userId, movieId and rating column)"
   ]
  },
  {
   "cell_type": "code",
   "execution_count": 253,
   "metadata": {},
   "outputs": [],
   "source": [
    "reader = Reader(rating_scale=(0.5,5))\n",
    "data = Dataset.load_from_df(ratings[['userId', 'movieId', 'rating']], reader)"
   ]
  },
  {
   "cell_type": "markdown",
   "metadata": {},
   "source": [
    "#### Function for Top N Recommendations"
   ]
  },
  {
   "cell_type": "code",
   "execution_count": 254,
   "metadata": {},
   "outputs": [],
   "source": [
    "# ORIGINAL\n",
    "# from the surprise documentation\n",
    "# with the extension of a recommendation dictionary\n",
    "\n",
    "from collections import defaultdict\n",
    "\n",
    "\n",
    "def get_top_n(predictions, n=10):\n",
    "    \"\"\"Return the top-N recommendation for each user from a set of predictions.\n",
    "\n",
    "    Args:\n",
    "        predictions(list of Prediction objects): The list of predictions, as\n",
    "            returned by the test method of an algorithm.\n",
    "        n(int): The number of recommendation to output for each user. Default\n",
    "            is 10.\n",
    "\n",
    "    Returns:\n",
    "    A dict where keys are user (raw) ids and values are lists of tuples:\n",
    "        [(raw item id, rating estimation), ...] of size n.\n",
    "    \"\"\"\n",
    "\n",
    "    # First map the predictions to each user.\n",
    "    top_n = defaultdict(list)\n",
    "    for uid, iid, true_r, est, _ in predictions:\n",
    "        top_n[uid].append((iid, est)) # append number of ratings\n",
    "\n",
    "    # Then sort the predictions for each user and retrieve the k highest ones.\n",
    "    for uid, user_ratings in top_n.items():\n",
    "        user_ratings.sort(key=lambda x: x[1], reverse=True)\n",
    "        top_n[uid] = user_ratings[:n]\n",
    "\n",
    "    return top_n"
   ]
  },
  {
   "cell_type": "markdown",
   "metadata": {},
   "source": [
    "## Recommendations with SVD (Single Value Decomposition)"
   ]
  },
  {
   "cell_type": "code",
   "execution_count": 255,
   "metadata": {},
   "outputs": [],
   "source": [
    "# First train an SVD algorithm on the movielens dataset.\n",
    "#data = Dataset.load_from_df(ratings[['userId', 'movieId', 'rating']], reader)\n",
    "trainset = data.build_full_trainset()\n",
    "\n",
    "algo = SVD()\n",
    "\n",
    "algo.fit(trainset)\n",
    "\n",
    "# Than predict ratings for all pairs (u, i) that are NOT in the training set.\n",
    "testset = trainset.build_anti_testset()\n",
    "predictions = algo.test(testset)\n",
    "\n",
    "top_n = get_top_n(predictions, n=100)\n",
    "\n",
    "    # Print the recommended items for each user\n",
    "    # and make a dictionary to store user ID and movie ID\n",
    "#for uid, user_ratings in top_n.items():\n",
    "#        print(uid,[iid for (iid, _) in user_ratings]) # prints recommendations for each user"
   ]
  },
  {
   "cell_type": "markdown",
   "metadata": {},
   "source": [
    "In 'top_n' you get a dictionary for each user:\n",
    "key: user ID\n",
    "value: List of tuples (movieId, predicted rating), sorted by predicted rating"
   ]
  },
  {
   "cell_type": "code",
   "execution_count": 256,
   "metadata": {},
   "outputs": [
    {
     "data": {
      "text/plain": [
       "(318, 5)"
      ]
     },
     "execution_count": 256,
     "metadata": {},
     "output_type": "execute_result"
    }
   ],
   "source": [
    "# for example\n",
    "top_n[1][0] # user 1 recommendation 1 (movieId, prediction)"
   ]
  },
  {
   "cell_type": "code",
   "execution_count": 257,
   "metadata": {},
   "outputs": [
    {
     "name": "stdout",
     "output_type": "stream",
     "text": [
      "1. Movie: Shawshank Redemption, The (1994)\n",
      "2. Movie: Departed, The (2006)\n",
      "3. Movie: Wallace & Gromit: The Best of Aardman Animation (1996)\n",
      "4. Movie: In the Name of the Father (1993)\n",
      "5. Movie: Rear Window (1954)\n",
      "6. Movie: Casablanca (1942)\n",
      "7. Movie: Notorious (1946)\n",
      "8. Movie: Brazil (1985)\n",
      "9. Movie: Dr. Strangelove or: How I Learned to Stop Worrying and Love the Bomb (1964)\n",
      "10. Movie: Captain Phillips (2013)\n",
      "11. Movie: Blade Runner (1982)\n",
      "12. Movie: One Flew Over the Cuckoo's Nest (1975)\n",
      "13. Movie: Grand Day Out with Wallace and Gromit, A (1989)\n",
      "14. Movie: Chinatown (1974)\n",
      "15. Movie: Amelie (Fabuleux destin d'Amélie Poulain, Le) (2001)\n",
      "16. Movie: Eternal Sunshine of the Spotless Mind (2004)\n",
      "17. Movie: Spotlight (2015)\n",
      "18. Movie: To Catch a Thief (1955)\n",
      "19. Movie: Monty Python's And Now for Something Completely Different (1971)\n",
      "20. Movie: Touch of Evil (1958)\n",
      "21. Movie: Great Escape, The (1963)\n",
      "22. Movie: It's a Wonderful Life (1946)\n",
      "23. Movie: Streetcar Named Desire, A (1951)\n",
      "24. Movie: Three Colors: Red (Trois couleurs: Rouge) (1994)\n",
      "25. Movie: Doctor Zhivago (1965)\n",
      "26. Movie: Rebecca (1940)\n",
      "27. Movie: Dogville (2003)\n",
      "28. Movie: In Bruges (2008)\n",
      "29. Movie: Kelly's Heroes (1970)\n",
      "30. Movie: Wallace & Gromit: The Wrong Trousers (1993)\n",
      "31. Movie: Three Billboards Outside Ebbing, Missouri (2017)\n",
      "32. Movie: Sunset Blvd. (a.k.a. Sunset Boulevard) (1950)\n",
      "33. Movie: No Man's Land (2001)\n",
      "34. Movie: Some Like It Hot (1959)\n",
      "35. Movie: Boondock Saints, The (2000)\n",
      "36. Movie: Lawrence of Arabia (1962)\n",
      "37. Movie: Crash (2004)\n",
      "38. Movie: Big Short, The (2015)\n",
      "39. Movie: Paths of Glory (1957)\n",
      "40. Movie: Dark Knight, The (2008)\n",
      "41. Movie: Toy Story 3 (2010)\n",
      "42. Movie: Guess Who's Coming to Dinner (1967)\n",
      "43. Movie: Amadeus (1984)\n",
      "44. Movie: Singin' in the Rain (1952)\n",
      "45. Movie: Glory (1989)\n",
      "46. Movie: 12 Angry Men (1957)\n",
      "47. Movie: Grave of the Fireflies (Hotaru no haka) (1988)\n",
      "48. Movie: Untouchables, The (1987)\n",
      "49. Movie: Seven Samurai (Shichinin no samurai) (1954)\n",
      "50. Movie: V for Vendetta (2006)\n",
      "51. Movie: Wallace & Gromit: A Close Shave (1995)\n",
      "52. Movie: Spirited Away (Sen to Chihiro no kamikakushi) (2001)\n",
      "53. Movie: Gattaca (1997)\n",
      "54. Movie: Boot, Das (Boat, The) (1981)\n",
      "55. Movie: Godfather: Part II, The (1974)\n",
      "56. Movie: Social Network, The (2010)\n",
      "57. Movie: Hustler, The (1961)\n",
      "58. Movie: Like Water for Chocolate (Como agua para chocolate) (1992)\n",
      "59. Movie: His Girl Friday (1940)\n",
      "60. Movie: Walk the Line (2005)\n",
      "61. Movie: Whiplash (2014)\n",
      "62. Movie: Philadelphia Story, The (1940)\n",
      "63. Movie: Unforgiven (1992)\n",
      "64. Movie: Almost Famous (2000)\n",
      "65. Movie: Finding Nemo (2003)\n",
      "66. Movie: Ran (1985)\n",
      "67. Movie: Sound of Music, The (1965)\n",
      "68. Movie: Monty Python Live at the Hollywood Bowl (1982)\n",
      "69. Movie: Aliens (1986)\n",
      "70. Movie: Lives of Others, The (Das leben der Anderen) (2006)\n",
      "71. Movie: Femme Nikita, La (Nikita) (1990)\n",
      "72. Movie: Evil Dead II (Dead by Dawn) (1987)\n",
      "73. Movie: Graduate, The (1967)\n",
      "74. Movie: Army of Darkness (1993)\n",
      "75. Movie: To Kill a Mockingbird (1962)\n",
      "76. Movie: Sting, The (1973)\n",
      "77. Movie: Good, the Bad and the Ugly, The (Buono, il brutto, il cattivo, Il) (1966)\n",
      "78. Movie: There Will Be Blood (2007)\n",
      "79. Movie: Futurama: Bender's Big Score (2007)\n",
      "80. Movie: Strangers on a Train (1951)\n",
      "81. Movie: On the Waterfront (1954)\n",
      "82. Movie: Apartment, The (1960)\n",
      "83. Movie: Good Will Hunting (1997)\n",
      "84. Movie: Harry Potter and the Prisoner of Azkaban (2004)\n",
      "85. Movie: Up (2009)\n",
      "86. Movie: Billy Elliot (2000)\n",
      "87. Movie: Batman: Mask of the Phantasm (1993)\n",
      "88. Movie: Mulholland Drive (2001)\n",
      "89. Movie: Godfather, The (1972)\n",
      "90. Movie: North by Northwest (1959)\n",
      "91. Movie: This Is Spinal Tap (1984)\n",
      "92. Movie: Key Largo (1948)\n",
      "93. Movie: Ghost in the Shell (Kôkaku kidôtai) (1995)\n",
      "94. Movie: Double Indemnity (1944)\n",
      "95. Movie: Creature Comforts (1989)\n",
      "96. Movie: Cinema Paradiso (Nuovo cinema Paradiso) (1989)\n",
      "97. Movie: Raging Bull (1980)\n",
      "98. Movie: Lost in Translation (2003)\n",
      "99. Movie: Pianist, The (2002)\n",
      "100. Movie: Miracle on 34th Street (1947)\n"
     ]
    }
   ],
   "source": [
    "# if you want to look at the titles of the recommended movies\n",
    "def get_recomm_for_user(user):\n",
    "    for i,j in enumerate(top_n[user]):\n",
    "        movie = movies[movies['movieId']==j[0]].title\n",
    "        print('{}. Movie: {}'.format(i+1, movie.iloc[0]))\n",
    "\n",
    "get_recomm_for_user(1)"
   ]
  },
  {
   "cell_type": "markdown",
   "metadata": {},
   "source": [
    "# Just some in depth look at the data:"
   ]
  },
  {
   "cell_type": "code",
   "execution_count": 258,
   "metadata": {},
   "outputs": [
    {
     "data": {
      "text/html": [
       "<div>\n",
       "<style scoped>\n",
       "    .dataframe tbody tr th:only-of-type {\n",
       "        vertical-align: middle;\n",
       "    }\n",
       "\n",
       "    .dataframe tbody tr th {\n",
       "        vertical-align: top;\n",
       "    }\n",
       "\n",
       "    .dataframe thead th {\n",
       "        text-align: right;\n",
       "    }\n",
       "</style>\n",
       "<table border=\"1\" class=\"dataframe\">\n",
       "  <thead>\n",
       "    <tr style=\"text-align: right;\">\n",
       "      <th></th>\n",
       "      <th>userId</th>\n",
       "      <th>movieId</th>\n",
       "      <th>rating</th>\n",
       "      <th>timestamp</th>\n",
       "    </tr>\n",
       "  </thead>\n",
       "  <tbody>\n",
       "    <tr>\n",
       "      <th>0</th>\n",
       "      <td>1</td>\n",
       "      <td>1</td>\n",
       "      <td>4.0</td>\n",
       "      <td>964982703</td>\n",
       "    </tr>\n",
       "    <tr>\n",
       "      <th>1</th>\n",
       "      <td>1</td>\n",
       "      <td>3</td>\n",
       "      <td>4.0</td>\n",
       "      <td>964981247</td>\n",
       "    </tr>\n",
       "    <tr>\n",
       "      <th>2</th>\n",
       "      <td>1</td>\n",
       "      <td>6</td>\n",
       "      <td>4.0</td>\n",
       "      <td>964982224</td>\n",
       "    </tr>\n",
       "    <tr>\n",
       "      <th>3</th>\n",
       "      <td>1</td>\n",
       "      <td>47</td>\n",
       "      <td>5.0</td>\n",
       "      <td>964983815</td>\n",
       "    </tr>\n",
       "    <tr>\n",
       "      <th>4</th>\n",
       "      <td>1</td>\n",
       "      <td>50</td>\n",
       "      <td>5.0</td>\n",
       "      <td>964982931</td>\n",
       "    </tr>\n",
       "  </tbody>\n",
       "</table>\n",
       "</div>"
      ],
      "text/plain": [
       "   userId  movieId  rating  timestamp\n",
       "0       1        1     4.0  964982703\n",
       "1       1        3     4.0  964981247\n",
       "2       1        6     4.0  964982224\n",
       "3       1       47     5.0  964983815\n",
       "4       1       50     5.0  964982931"
      ]
     },
     "execution_count": 258,
     "metadata": {},
     "output_type": "execute_result"
    }
   ],
   "source": [
    "# get all ratings for a certain user:\n",
    "\n",
    "user_1 = ratings.query('userId == 1')\n",
    "user_1.head()"
   ]
  },
  {
   "cell_type": "code",
   "execution_count": 259,
   "metadata": {},
   "outputs": [],
   "source": [
    "# put all the recommended movies for that user in a list:\n",
    "\n",
    "recomm_movies = []\n",
    "for i in top_n[1] :\n",
    "    recomm_movies.append(i[0])\n",
    "\n",
    "#recomm_movies"
   ]
  },
  {
   "cell_type": "code",
   "execution_count": 260,
   "metadata": {},
   "outputs": [
    {
     "data": {
      "text/html": [
       "<div>\n",
       "<style scoped>\n",
       "    .dataframe tbody tr th:only-of-type {\n",
       "        vertical-align: middle;\n",
       "    }\n",
       "\n",
       "    .dataframe tbody tr th {\n",
       "        vertical-align: top;\n",
       "    }\n",
       "\n",
       "    .dataframe thead th {\n",
       "        text-align: right;\n",
       "    }\n",
       "</style>\n",
       "<table border=\"1\" class=\"dataframe\">\n",
       "  <thead>\n",
       "    <tr style=\"text-align: right;\">\n",
       "      <th></th>\n",
       "      <th>userId</th>\n",
       "      <th>movieId</th>\n",
       "      <th>rating</th>\n",
       "      <th>timestamp</th>\n",
       "    </tr>\n",
       "  </thead>\n",
       "  <tbody>\n",
       "  </tbody>\n",
       "</table>\n",
       "</div>"
      ],
      "text/plain": [
       "Empty DataFrame\n",
       "Columns: [userId, movieId, rating, timestamp]\n",
       "Index: []"
      ]
     },
     "execution_count": 260,
     "metadata": {},
     "output_type": "execute_result"
    }
   ],
   "source": [
    "# check if all recommended movies are new to the user:\n",
    "\n",
    "user_1[user_1['movieId'].isin(recomm_movies)]"
   ]
  },
  {
   "cell_type": "markdown",
   "metadata": {},
   "source": [
    "### If the output above shows no rows then every recommended movie is new to the user!"
   ]
  },
  {
   "cell_type": "code",
   "execution_count": 261,
   "metadata": {},
   "outputs": [],
   "source": [
    "# get the count of ratings for every recommended movie\n",
    "for i in recomm_movies :\n",
    "    num = movie_rat_count[movie_rat_count['movieId'] == i].reset_index()\n",
    "    num = num.loc[0, 'rating']\n",
    "    #print(i, num) # activate print statement to see output"
   ]
  },
  {
   "cell_type": "markdown",
   "metadata": {},
   "source": [
    "### You can see how many ratings the recommended movies got in total.\n",
    "\n",
    "### Below, you can set a threshold (here: 10) to see how many movies have got a number of ratings below or above the cut off:"
   ]
  },
  {
   "cell_type": "code",
   "execution_count": 262,
   "metadata": {},
   "outputs": [
    {
     "name": "stdout",
     "output_type": "stream",
     "text": [
      "10 or less ratings:  4\n",
      "More than 10 ratings:  96\n"
     ]
    }
   ],
   "source": [
    "below = []\n",
    "above = []\n",
    "\n",
    "for i in recomm_movies :\n",
    "    num = movie_rat_count[movie_rat_count['movieId'] == i].reset_index()\n",
    "    num = num.loc[0, 'rating']\n",
    "    if num <= 10 :\n",
    "        below.append((i, num))\n",
    "    else :\n",
    "        above.append((i, num))\n",
    "\n",
    "print('10 or less ratings: ', len(below))\n",
    "print('More than 10 ratings: ', len(above))\n"
   ]
  },
  {
   "cell_type": "markdown",
   "metadata": {},
   "source": [
    "# END of RECOMMENDATIONS with SVD"
   ]
  }
 ],
 "metadata": {
  "interpreter": {
   "hash": "b1d3e849b47b764d0f3ac79546b2fdec71084d637cd1155750be66ff33c37197"
  },
  "kernelspec": {
   "display_name": "Python 3.9.4 64-bit ('.venv': venv)",
   "name": "python3"
  },
  "language_info": {
   "codemirror_mode": {
    "name": "ipython",
    "version": 3
   },
   "file_extension": ".py",
   "mimetype": "text/x-python",
   "name": "python",
   "nbconvert_exporter": "python",
   "pygments_lexer": "ipython3",
   "version": "3.9.4"
  },
  "orig_nbformat": 4
 },
 "nbformat": 4,
 "nbformat_minor": 2
}
