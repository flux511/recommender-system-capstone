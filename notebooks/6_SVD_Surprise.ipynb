{
 "cells": [
  {
   "cell_type": "markdown",
   "metadata": {},
   "source": [
    "# Collaborative Filtering\n",
    "\n",
    "#### Some theoretical Background\n",
    "\n",
    "[Link](https://realpython.com/build-recommendation-engine-collaborative-filtering/)\n",
    "\n",
    "### User-Based vs Item-Based Collaborative Filtering\n",
    "\n",
    "The two approaches are mathematically quite similar, but there is a conceptual difference between the two. Here’s how the two compare:\n",
    "\n",
    "+ **User-based**: For a user U, with a set of similar users determined based on rating vectors consisting of given item ratings, the rating for an item I, which hasn’t been rated, is found by picking out N users from the similarity list who have rated the item I and calculating the rating based on these N ratings.\n",
    "\n",
    "+ **Item-based**: For an item I, with a set of similar items determined based on rating vectors consisting of received user ratings, the rating by a user U, who hasn’t rated it, is found by picking out N items from the similarity list that have been rated by U and calculating the rating based on these N ratings."
   ]
  },
  {
   "cell_type": "markdown",
   "metadata": {},
   "source": [
    "## Import Packages"
   ]
  },
  {
   "cell_type": "code",
   "execution_count": 389,
   "metadata": {},
   "outputs": [],
   "source": [
    "import pandas as pd\n",
    "import numpy as np\n",
    "\n",
    "import matplotlib.pyplot as plt\n",
    "import seaborn as sns"
   ]
  },
  {
   "cell_type": "markdown",
   "metadata": {},
   "source": [
    "### Surprise Library"
   ]
  },
  {
   "cell_type": "code",
   "execution_count": 390,
   "metadata": {},
   "outputs": [],
   "source": [
    "from surprise import Dataset\n",
    "from surprise import Reader\n",
    "\n",
    "from surprise import BaselineOnly\n",
    "from surprise import KNNBasic\n",
    "from surprise import KNNWithMeans\n",
    "from surprise import SVD\n",
    "from surprise import accuracy\n",
    "from surprise import SlopeOne\n",
    "from surprise import SVDpp\n",
    "from surprise import NMF\n",
    "from surprise import NormalPredictor\n",
    "from surprise import KNNBaseline\n",
    "from surprise import KNNWithZScore\n",
    "from surprise import CoClustering\n",
    "\n",
    "from surprise.model_selection import cross_validate\n",
    "from surprise.model_selection import train_test_split\n",
    "from surprise.model_selection import GridSearchCV\n",
    "\n",
    "from surprise import accuracy\n",
    "\n",
    "RSEED = 42"
   ]
  },
  {
   "cell_type": "markdown",
   "metadata": {},
   "source": [
    "#### Import Data"
   ]
  },
  {
   "cell_type": "code",
   "execution_count": 391,
   "metadata": {},
   "outputs": [],
   "source": [
    "movies = pd.read_csv('../data/ml-latest-small/movies.csv')\n",
    "ratings = pd.read_csv('../data/ml-latest-small/ratings.csv')\n",
    "#links = pd.read_csv('../data/ml-latest-small/links.csv')\n",
    "#tags = pd.read_csv('../data/ml-latest-small/tags.csv')"
   ]
  },
  {
   "cell_type": "code",
   "execution_count": 392,
   "metadata": {},
   "outputs": [
    {
     "data": {
      "text/plain": [
       "count    100836.000000\n",
       "mean          3.501557\n",
       "std           1.042529\n",
       "min           0.500000\n",
       "25%           3.000000\n",
       "50%           3.500000\n",
       "75%           4.000000\n",
       "max           5.000000\n",
       "Name: rating, dtype: float64"
      ]
     },
     "execution_count": 392,
     "metadata": {},
     "output_type": "execute_result"
    }
   ],
   "source": [
    "ratings['rating'].describe()"
   ]
  },
  {
   "cell_type": "code",
   "execution_count": 393,
   "metadata": {},
   "outputs": [
    {
     "data": {
      "text/html": [
       "<div>\n",
       "<style scoped>\n",
       "    .dataframe tbody tr th:only-of-type {\n",
       "        vertical-align: middle;\n",
       "    }\n",
       "\n",
       "    .dataframe tbody tr th {\n",
       "        vertical-align: top;\n",
       "    }\n",
       "\n",
       "    .dataframe thead th {\n",
       "        text-align: right;\n",
       "    }\n",
       "</style>\n",
       "<table border=\"1\" class=\"dataframe\">\n",
       "  <thead>\n",
       "    <tr style=\"text-align: right;\">\n",
       "      <th></th>\n",
       "      <th>movieId</th>\n",
       "      <th>rating</th>\n",
       "    </tr>\n",
       "  </thead>\n",
       "  <tbody>\n",
       "    <tr>\n",
       "      <th>0</th>\n",
       "      <td>1</td>\n",
       "      <td>215</td>\n",
       "    </tr>\n",
       "    <tr>\n",
       "      <th>1</th>\n",
       "      <td>2</td>\n",
       "      <td>110</td>\n",
       "    </tr>\n",
       "  </tbody>\n",
       "</table>\n",
       "</div>"
      ],
      "text/plain": [
       "   movieId  rating\n",
       "0        1     215\n",
       "1        2     110"
      ]
     },
     "execution_count": 393,
     "metadata": {},
     "output_type": "execute_result"
    }
   ],
   "source": [
    "# total number of ratings per movie\n",
    "movie_rat_count = ratings.groupby('movieId').count()['rating'].reset_index()\n",
    "movie_rat_count.head(2)"
   ]
  },
  {
   "cell_type": "code",
   "execution_count": 394,
   "metadata": {},
   "outputs": [
    {
     "data": {
      "text/plain": [
       "110"
      ]
     },
     "execution_count": 394,
     "metadata": {},
     "output_type": "execute_result"
    }
   ],
   "source": [
    "# extract one rating count for a given movie (here movie 2)\n",
    "num = movie_rat_count[movie_rat_count['movieId'] == 2].reset_index()\n",
    "num = num.loc[0, 'rating']\n",
    "num"
   ]
  },
  {
   "cell_type": "markdown",
   "metadata": {},
   "source": [
    "#### Define Reader &\n",
    "#### Load the data frame into data (here: userId, movieId and rating column)"
   ]
  },
  {
   "cell_type": "code",
   "execution_count": 395,
   "metadata": {},
   "outputs": [],
   "source": [
    "reader = Reader(rating_scale=(0.5,5))\n",
    "data = Dataset.load_from_df(ratings[['userId', 'movieId', 'rating']], reader)"
   ]
  },
  {
   "cell_type": "markdown",
   "metadata": {},
   "source": [
    "#### Function for Top N Recommendations"
   ]
  },
  {
   "cell_type": "code",
   "execution_count": 396,
   "metadata": {},
   "outputs": [],
   "source": [
    "# ORIGINAL\n",
    "# from the surprise documentation\n",
    "# with the extension of a recommendation dictionary\n",
    "\n",
    "from collections import defaultdict\n",
    "\n",
    "\n",
    "def get_top_n(predictions, n=10):\n",
    "    \"\"\"Return the top-N recommendation for each user from a set of predictions.\n",
    "\n",
    "    Args:\n",
    "        predictions(list of Prediction objects): The list of predictions, as\n",
    "            returned by the test method of an algorithm.\n",
    "        n(int): The number of recommendation to output for each user. Default\n",
    "            is 10.\n",
    "\n",
    "    Returns:\n",
    "    A dict where keys are user (raw) ids and values are lists of tuples:\n",
    "        [(raw item id, rating estimation), ...] of size n.\n",
    "    \"\"\"\n",
    "\n",
    "    # First map the predictions to each user.\n",
    "    top_n = defaultdict(list)\n",
    "    for uid, iid, true_r, est, _ in predictions:\n",
    "        top_n[uid].append((iid, est)) # append number of ratings\n",
    "\n",
    "    # Then sort the predictions for each user and retrieve the k highest ones.\n",
    "    for uid, user_ratings in top_n.items():\n",
    "        user_ratings.sort(key=lambda x: x[1], reverse=True)\n",
    "        top_n[uid] = user_ratings[:n]\n",
    "\n",
    "    return top_n"
   ]
  },
  {
   "cell_type": "markdown",
   "metadata": {},
   "source": [
    "## Recommendations with SVD (Single Value Decomposition)"
   ]
  },
  {
   "cell_type": "code",
   "execution_count": 397,
   "metadata": {},
   "outputs": [],
   "source": [
    "# First train an SVD algorithm on the movielens dataset.\n",
    "#data = Dataset.load_from_df(ratings[['userId', 'movieId', 'rating']], reader)\n",
    "trainset = data.build_full_trainset()\n",
    "\n",
    "algo = SVD()\n",
    "\n",
    "algo.fit(trainset)\n",
    "\n",
    "# Than predict ratings for all pairs (u, i) that are NOT in the training set.\n",
    "testset = trainset.build_anti_testset()\n",
    "predictions = algo.test(testset)\n",
    "\n",
    "top_n = get_top_n(predictions, n=100)\n",
    "\n",
    "    # Print the recommended items for each user\n",
    "#for uid, user_ratings in top_n.items():\n",
    "#        print(uid,[iid for (iid, _) in user_ratings]) # prints recommendations for each user"
   ]
  },
  {
   "cell_type": "markdown",
   "metadata": {},
   "source": [
    "In 'top_n' you get a dictionary for each user:\n",
    "key: user ID\n",
    "value: List of tuples (movieId, predicted rating), sorted by predicted rating"
   ]
  },
  {
   "cell_type": "code",
   "execution_count": 398,
   "metadata": {},
   "outputs": [
    {
     "data": {
      "text/plain": [
       "(318, 5)"
      ]
     },
     "execution_count": 398,
     "metadata": {},
     "output_type": "execute_result"
    }
   ],
   "source": [
    "# for example\n",
    "top_n[1][0] # user 1 recommendation 1 (movieId, prediction)"
   ]
  },
  {
   "cell_type": "code",
   "execution_count": 399,
   "metadata": {},
   "outputs": [],
   "source": [
    "# if you want to look at the titles of the recommended movies\n",
    "def get_recomm_for_user(user):\n",
    "    for i,j in enumerate(top_n[user]):\n",
    "        movie = movies[movies['movieId']==j[0]].title\n",
    "        #print('{}. Movie: {}'.format(i+1, movie.iloc[0]))\n",
    "\n",
    "get_recomm_for_user(1)"
   ]
  },
  {
   "cell_type": "markdown",
   "metadata": {},
   "source": [
    "# Save recommendations as csv file:"
   ]
  },
  {
   "cell_type": "markdown",
   "metadata": {},
   "source": [
    "Make to dictionaries, e.g.:\n",
    "1. key : [1, 2, 3]\n",
    "2. key : [[1, 2, 3]]"
   ]
  },
  {
   "cell_type": "code",
   "execution_count": 400,
   "metadata": {},
   "outputs": [],
   "source": [
    "recommendations1 = {}\n",
    "for i in range(1, 611) :\n",
    "    l = []\n",
    "    for j in range(100) :\n",
    "        reco = top_n[i][j][0]\n",
    "        l.append(reco)\n",
    "    recommendations1[i] = l"
   ]
  },
  {
   "cell_type": "code",
   "execution_count": 401,
   "metadata": {},
   "outputs": [],
   "source": [
    "recommendations2 = {}\n",
    "for i in range(1, 611) :\n",
    "    l = []\n",
    "    for j in range(100) :\n",
    "        reco = top_n[i][j][0]\n",
    "        l.append(reco)\n",
    "    recommendations2[i] = [l]"
   ]
  },
  {
   "cell_type": "markdown",
   "metadata": {},
   "source": [
    "Make dataframes:"
   ]
  },
  {
   "cell_type": "code",
   "execution_count": 402,
   "metadata": {},
   "outputs": [],
   "source": [
    "top_recomm1 = pd.DataFrame.from_dict(recommendations1, orient='index')"
   ]
  },
  {
   "cell_type": "code",
   "execution_count": 403,
   "metadata": {},
   "outputs": [],
   "source": [
    "top_recomm2 = pd.DataFrame.from_dict(recommendations2, orient='index')"
   ]
  },
  {
   "cell_type": "markdown",
   "metadata": {},
   "source": [
    "The first one has got the userId as index and then every movie recommendation as one column:"
   ]
  },
  {
   "cell_type": "code",
   "execution_count": 404,
   "metadata": {},
   "outputs": [
    {
     "data": {
      "text/html": [
       "<div>\n",
       "<style scoped>\n",
       "    .dataframe tbody tr th:only-of-type {\n",
       "        vertical-align: middle;\n",
       "    }\n",
       "\n",
       "    .dataframe tbody tr th {\n",
       "        vertical-align: top;\n",
       "    }\n",
       "\n",
       "    .dataframe thead th {\n",
       "        text-align: right;\n",
       "    }\n",
       "</style>\n",
       "<table border=\"1\" class=\"dataframe\">\n",
       "  <thead>\n",
       "    <tr style=\"text-align: right;\">\n",
       "      <th></th>\n",
       "      <th>0</th>\n",
       "      <th>1</th>\n",
       "      <th>2</th>\n",
       "      <th>3</th>\n",
       "      <th>4</th>\n",
       "      <th>5</th>\n",
       "      <th>6</th>\n",
       "      <th>7</th>\n",
       "      <th>8</th>\n",
       "      <th>9</th>\n",
       "      <th>...</th>\n",
       "      <th>90</th>\n",
       "      <th>91</th>\n",
       "      <th>92</th>\n",
       "      <th>93</th>\n",
       "      <th>94</th>\n",
       "      <th>95</th>\n",
       "      <th>96</th>\n",
       "      <th>97</th>\n",
       "      <th>98</th>\n",
       "      <th>99</th>\n",
       "    </tr>\n",
       "  </thead>\n",
       "  <tbody>\n",
       "    <tr>\n",
       "      <th>1</th>\n",
       "      <td>318</td>\n",
       "      <td>1704</td>\n",
       "      <td>48516</td>\n",
       "      <td>475</td>\n",
       "      <td>898</td>\n",
       "      <td>1225</td>\n",
       "      <td>1250</td>\n",
       "      <td>1719</td>\n",
       "      <td>4226</td>\n",
       "      <td>16</td>\n",
       "      <td>...</td>\n",
       "      <td>1223</td>\n",
       "      <td>2762</td>\n",
       "      <td>3200</td>\n",
       "      <td>1274</td>\n",
       "      <td>247</td>\n",
       "      <td>2160</td>\n",
       "      <td>1175</td>\n",
       "      <td>68358</td>\n",
       "      <td>6350</td>\n",
       "      <td>1103</td>\n",
       "    </tr>\n",
       "    <tr>\n",
       "      <th>2</th>\n",
       "      <td>1198</td>\n",
       "      <td>1225</td>\n",
       "      <td>1041</td>\n",
       "      <td>3451</td>\n",
       "      <td>1089</td>\n",
       "      <td>1204</td>\n",
       "      <td>2324</td>\n",
       "      <td>2160</td>\n",
       "      <td>2571</td>\n",
       "      <td>1234</td>\n",
       "      <td>...</td>\n",
       "      <td>1201</td>\n",
       "      <td>908</td>\n",
       "      <td>7371</td>\n",
       "      <td>3037</td>\n",
       "      <td>2502</td>\n",
       "      <td>3328</td>\n",
       "      <td>1028</td>\n",
       "      <td>1270</td>\n",
       "      <td>898</td>\n",
       "      <td>3814</td>\n",
       "    </tr>\n",
       "  </tbody>\n",
       "</table>\n",
       "<p>2 rows × 100 columns</p>\n",
       "</div>"
      ],
      "text/plain": [
       "     0     1      2     3     4     5     6     7     8     9   ...    90  \\\n",
       "1   318  1704  48516   475   898  1225  1250  1719  4226    16  ...  1223   \n",
       "2  1198  1225   1041  3451  1089  1204  2324  2160  2571  1234  ...  1201   \n",
       "\n",
       "     91    92    93    94    95    96     97    98    99  \n",
       "1  2762  3200  1274   247  2160  1175  68358  6350  1103  \n",
       "2   908  7371  3037  2502  3328  1028   1270   898  3814  \n",
       "\n",
       "[2 rows x 100 columns]"
      ]
     },
     "execution_count": 404,
     "metadata": {},
     "output_type": "execute_result"
    }
   ],
   "source": [
    "top_recomm1.head(2)"
   ]
  },
  {
   "cell_type": "markdown",
   "metadata": {},
   "source": [
    "The second one has got a list with all recommendations in one column:"
   ]
  },
  {
   "cell_type": "code",
   "execution_count": 405,
   "metadata": {},
   "outputs": [
    {
     "data": {
      "text/html": [
       "<div>\n",
       "<style scoped>\n",
       "    .dataframe tbody tr th:only-of-type {\n",
       "        vertical-align: middle;\n",
       "    }\n",
       "\n",
       "    .dataframe tbody tr th {\n",
       "        vertical-align: top;\n",
       "    }\n",
       "\n",
       "    .dataframe thead th {\n",
       "        text-align: right;\n",
       "    }\n",
       "</style>\n",
       "<table border=\"1\" class=\"dataframe\">\n",
       "  <thead>\n",
       "    <tr style=\"text-align: right;\">\n",
       "      <th></th>\n",
       "      <th>0</th>\n",
       "    </tr>\n",
       "  </thead>\n",
       "  <tbody>\n",
       "    <tr>\n",
       "      <th>1</th>\n",
       "      <td>[318, 1704, 48516, 475, 898, 1225, 1250, 1719,...</td>\n",
       "    </tr>\n",
       "    <tr>\n",
       "      <th>2</th>\n",
       "      <td>[1198, 1225, 1041, 3451, 1089, 1204, 2324, 216...</td>\n",
       "    </tr>\n",
       "  </tbody>\n",
       "</table>\n",
       "</div>"
      ],
      "text/plain": [
       "                                                   0\n",
       "1  [318, 1704, 48516, 475, 898, 1225, 1250, 1719,...\n",
       "2  [1198, 1225, 1041, 3451, 1089, 1204, 2324, 216..."
      ]
     },
     "execution_count": 405,
     "metadata": {},
     "output_type": "execute_result"
    }
   ],
   "source": [
    "top_recomm2.head(2)"
   ]
  },
  {
   "cell_type": "markdown",
   "metadata": {},
   "source": [
    "Export as csv files:"
   ]
  },
  {
   "cell_type": "markdown",
   "metadata": {},
   "source": [
    "recommendations1:\n",
    "+ index - userId - every recommendation in a separate column:"
   ]
  },
  {
   "cell_type": "code",
   "execution_count": 406,
   "metadata": {},
   "outputs": [],
   "source": [
    "# export new data to csv. file\n",
    "top_recomm1.to_csv('../data/recommendations1.csv', index_label='userId')"
   ]
  },
  {
   "cell_type": "markdown",
   "metadata": {},
   "source": [
    "## recommendations2:\n",
    "+ index - userId - one column with a list of all recommendations:"
   ]
  },
  {
   "cell_type": "code",
   "execution_count": 407,
   "metadata": {},
   "outputs": [],
   "source": [
    "top_recomm2.to_csv('../data/recommendations2.csv',index=True, index_label='userId', header=['recommendations'])"
   ]
  },
  {
   "cell_type": "markdown",
   "metadata": {},
   "source": [
    "# Just some in depth look at the data:"
   ]
  },
  {
   "cell_type": "code",
   "execution_count": 408,
   "metadata": {},
   "outputs": [
    {
     "data": {
      "text/html": [
       "<div>\n",
       "<style scoped>\n",
       "    .dataframe tbody tr th:only-of-type {\n",
       "        vertical-align: middle;\n",
       "    }\n",
       "\n",
       "    .dataframe tbody tr th {\n",
       "        vertical-align: top;\n",
       "    }\n",
       "\n",
       "    .dataframe thead th {\n",
       "        text-align: right;\n",
       "    }\n",
       "</style>\n",
       "<table border=\"1\" class=\"dataframe\">\n",
       "  <thead>\n",
       "    <tr style=\"text-align: right;\">\n",
       "      <th></th>\n",
       "      <th>userId</th>\n",
       "      <th>movieId</th>\n",
       "      <th>rating</th>\n",
       "      <th>timestamp</th>\n",
       "    </tr>\n",
       "  </thead>\n",
       "  <tbody>\n",
       "    <tr>\n",
       "      <th>0</th>\n",
       "      <td>1</td>\n",
       "      <td>1</td>\n",
       "      <td>4.0</td>\n",
       "      <td>964982703</td>\n",
       "    </tr>\n",
       "    <tr>\n",
       "      <th>1</th>\n",
       "      <td>1</td>\n",
       "      <td>3</td>\n",
       "      <td>4.0</td>\n",
       "      <td>964981247</td>\n",
       "    </tr>\n",
       "    <tr>\n",
       "      <th>2</th>\n",
       "      <td>1</td>\n",
       "      <td>6</td>\n",
       "      <td>4.0</td>\n",
       "      <td>964982224</td>\n",
       "    </tr>\n",
       "    <tr>\n",
       "      <th>3</th>\n",
       "      <td>1</td>\n",
       "      <td>47</td>\n",
       "      <td>5.0</td>\n",
       "      <td>964983815</td>\n",
       "    </tr>\n",
       "    <tr>\n",
       "      <th>4</th>\n",
       "      <td>1</td>\n",
       "      <td>50</td>\n",
       "      <td>5.0</td>\n",
       "      <td>964982931</td>\n",
       "    </tr>\n",
       "  </tbody>\n",
       "</table>\n",
       "</div>"
      ],
      "text/plain": [
       "   userId  movieId  rating  timestamp\n",
       "0       1        1     4.0  964982703\n",
       "1       1        3     4.0  964981247\n",
       "2       1        6     4.0  964982224\n",
       "3       1       47     5.0  964983815\n",
       "4       1       50     5.0  964982931"
      ]
     },
     "execution_count": 408,
     "metadata": {},
     "output_type": "execute_result"
    }
   ],
   "source": [
    "# get all ratings for a certain user:\n",
    "\n",
    "user_1 = ratings.query('userId == 1')\n",
    "user_1.head()"
   ]
  },
  {
   "cell_type": "code",
   "execution_count": 409,
   "metadata": {},
   "outputs": [],
   "source": [
    "# put all the recommended movies for that user in a list:\n",
    "\n",
    "recomm_movies = []\n",
    "for i in top_n[1] :\n",
    "    recomm_movies.append(i[0])\n",
    "\n",
    "#recomm_movies"
   ]
  },
  {
   "cell_type": "code",
   "execution_count": 410,
   "metadata": {},
   "outputs": [
    {
     "data": {
      "text/html": [
       "<div>\n",
       "<style scoped>\n",
       "    .dataframe tbody tr th:only-of-type {\n",
       "        vertical-align: middle;\n",
       "    }\n",
       "\n",
       "    .dataframe tbody tr th {\n",
       "        vertical-align: top;\n",
       "    }\n",
       "\n",
       "    .dataframe thead th {\n",
       "        text-align: right;\n",
       "    }\n",
       "</style>\n",
       "<table border=\"1\" class=\"dataframe\">\n",
       "  <thead>\n",
       "    <tr style=\"text-align: right;\">\n",
       "      <th></th>\n",
       "      <th>userId</th>\n",
       "      <th>movieId</th>\n",
       "      <th>rating</th>\n",
       "      <th>timestamp</th>\n",
       "    </tr>\n",
       "  </thead>\n",
       "  <tbody>\n",
       "  </tbody>\n",
       "</table>\n",
       "</div>"
      ],
      "text/plain": [
       "Empty DataFrame\n",
       "Columns: [userId, movieId, rating, timestamp]\n",
       "Index: []"
      ]
     },
     "execution_count": 410,
     "metadata": {},
     "output_type": "execute_result"
    }
   ],
   "source": [
    "# check if all recommended movies are new to the user:\n",
    "\n",
    "user_1[user_1['movieId'].isin(recomm_movies)]"
   ]
  },
  {
   "cell_type": "markdown",
   "metadata": {},
   "source": [
    "### If the output above shows no rows then every recommended movie is new to the user!"
   ]
  },
  {
   "cell_type": "code",
   "execution_count": 411,
   "metadata": {},
   "outputs": [],
   "source": [
    "# get the count of ratings for every recommended movie\n",
    "for i in recomm_movies :\n",
    "    num = movie_rat_count[movie_rat_count['movieId'] == i].reset_index()\n",
    "    num = num.loc[0, 'rating']\n",
    "    #print(i, num) # activate print statement to see output"
   ]
  },
  {
   "cell_type": "markdown",
   "metadata": {},
   "source": [
    "### You can see how many ratings the recommended movies got in total.\n",
    "\n",
    "### Below, you can set a threshold (here: 10) to see how many movies have got a number of ratings below or above the cut off:"
   ]
  },
  {
   "cell_type": "code",
   "execution_count": 412,
   "metadata": {},
   "outputs": [],
   "source": [
    "# put all the recommended movies for that user in a list:\n",
    "\n",
    "recomm_movies = []\n",
    "for i in top_n[414] :\n",
    "    recomm_movies.append(i[0])\n",
    "\n",
    "#recomm_movies"
   ]
  },
  {
   "cell_type": "code",
   "execution_count": 413,
   "metadata": {},
   "outputs": [
    {
     "name": "stdout",
     "output_type": "stream",
     "text": [
      "10 or less ratings:  50\n",
      "More than 10 ratings:  50\n"
     ]
    }
   ],
   "source": [
    "below = []\n",
    "above = []\n",
    "\n",
    "for i in recomm_movies :\n",
    "    num = movie_rat_count[movie_rat_count['movieId'] == i].reset_index()\n",
    "    num = num.loc[0, 'rating']\n",
    "    if num <= 10 :\n",
    "        below.append((i, num))\n",
    "        #print(num)\n",
    "    else :\n",
    "        above.append((i, num))\n",
    "\n",
    "print('10 or less ratings: ', len(below))\n",
    "print('More than 10 ratings: ', len(above))\n"
   ]
  },
  {
   "cell_type": "markdown",
   "metadata": {},
   "source": [
    "# END of RECOMMENDATIONS with SVD"
   ]
  }
 ],
 "metadata": {
  "interpreter": {
   "hash": "b1d3e849b47b764d0f3ac79546b2fdec71084d637cd1155750be66ff33c37197"
  },
  "kernelspec": {
   "display_name": "Python 3.9.4 64-bit ('.venv': venv)",
   "name": "python3"
  },
  "language_info": {
   "codemirror_mode": {
    "name": "ipython",
    "version": 3
   },
   "file_extension": ".py",
   "mimetype": "text/x-python",
   "name": "python",
   "nbconvert_exporter": "python",
   "pygments_lexer": "ipython3",
   "version": "3.9.4"
  },
  "orig_nbformat": 4
 },
 "nbformat": 4,
 "nbformat_minor": 2
}
