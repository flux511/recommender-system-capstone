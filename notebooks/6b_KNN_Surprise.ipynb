{
 "cells": [
  {
   "cell_type": "markdown",
   "metadata": {},
   "source": [
    "# Collaborative Filtering\n",
    "\n",
    "#### Some theoretical Background\n",
    "\n",
    "[Link](https://realpython.com/build-recommendation-engine-collaborative-filtering/)\n",
    "\n",
    "### User-Based vs Item-Based Collaborative Filtering\n",
    "\n",
    "The two approaches are mathematically quite similar, but there is a conceptual difference between the two. Here’s how the two compare:\n",
    "\n",
    "+ **User-based**: For a user U, with a set of similar users determined based on rating vectors consisting of given item ratings, the rating for an item I, which hasn’t been rated, is found by picking out N users from the similarity list who have rated the item I and calculating the rating based on these N ratings.\n",
    "\n",
    "+ **Item-based**: For an item I, with a set of similar items determined based on rating vectors consisting of received user ratings, the rating by a user U, who hasn’t rated it, is found by picking out N items from the similarity list that have been rated by U and calculating the rating based on these N ratings."
   ]
  },
  {
   "cell_type": "markdown",
   "metadata": {},
   "source": [
    "## Import Packages"
   ]
  },
  {
   "cell_type": "code",
   "execution_count": 1,
   "metadata": {},
   "outputs": [],
   "source": [
    "import pandas as pd\n",
    "import numpy as np\n",
    "\n",
    "import matplotlib.pyplot as plt\n",
    "import seaborn as sns"
   ]
  },
  {
   "cell_type": "markdown",
   "metadata": {},
   "source": [
    "### Surprise Library"
   ]
  },
  {
   "cell_type": "code",
   "execution_count": 2,
   "metadata": {},
   "outputs": [],
   "source": [
    "from surprise import Dataset\n",
    "from surprise import Reader\n",
    "\n",
    "from surprise import BaselineOnly\n",
    "from surprise import KNNBasic\n",
    "from surprise import KNNWithMeans\n",
    "from surprise import SVD\n",
    "from surprise import accuracy\n",
    "from surprise import SlopeOne\n",
    "from surprise import SVDpp\n",
    "from surprise import NMF\n",
    "from surprise import NormalPredictor\n",
    "from surprise import KNNBaseline\n",
    "from surprise import KNNWithZScore\n",
    "from surprise import CoClustering\n",
    "\n",
    "from surprise.model_selection import cross_validate\n",
    "from surprise.model_selection import train_test_split\n",
    "from surprise.model_selection import GridSearchCV\n",
    "\n",
    "from surprise import accuracy\n",
    "\n",
    "RSEED = 42"
   ]
  },
  {
   "cell_type": "markdown",
   "metadata": {},
   "source": [
    "#### Import Data"
   ]
  },
  {
   "cell_type": "code",
   "execution_count": 3,
   "metadata": {},
   "outputs": [],
   "source": [
    "movies = pd.read_csv('../data/ml-latest-small/movies.csv')\n",
    "ratings = pd.read_csv('../data/ml-latest-small/ratings.csv')\n",
    "#links = pd.read_csv('../data/ml-latest-small/links.csv')\n",
    "#tags = pd.read_csv('../data/ml-latest-small/tags.csv')"
   ]
  },
  {
   "cell_type": "code",
   "execution_count": 4,
   "metadata": {},
   "outputs": [
    {
     "data": {
      "text/plain": [
       "9724"
      ]
     },
     "execution_count": 4,
     "metadata": {},
     "output_type": "execute_result"
    }
   ],
   "source": [
    "ratings['rating'].describe()\n",
    "ratings.movieId.nunique()"
   ]
  },
  {
   "cell_type": "code",
   "execution_count": 5,
   "metadata": {},
   "outputs": [
    {
     "data": {
      "text/plain": [
       "9543"
      ]
     },
     "execution_count": 5,
     "metadata": {},
     "output_type": "execute_result"
    }
   ],
   "source": [
    "df = pd.read_csv('../data/df_features.csv')\n",
    "movieIds = df.movieId.to_list()\n",
    "\n",
    "len(movieIds)"
   ]
  },
  {
   "cell_type": "code",
   "execution_count": 6,
   "metadata": {},
   "outputs": [
    {
     "data": {
      "text/plain": [
       "9525"
      ]
     },
     "execution_count": 6,
     "metadata": {},
     "output_type": "execute_result"
    }
   ],
   "source": [
    "ratings = ratings[ratings['movieId'].isin(movieIds)]\n",
    "ratings.movieId.nunique()"
   ]
  },
  {
   "cell_type": "code",
   "execution_count": 21,
   "metadata": {},
   "outputs": [],
   "source": [
    "# total number of ratings per movie\n",
    "#movie_rat_count = ratings.groupby('movieId').count()['rating'].reset_index()\n",
    "#movie_rat_count.head(2)"
   ]
  },
  {
   "cell_type": "code",
   "execution_count": 22,
   "metadata": {},
   "outputs": [],
   "source": [
    "# extract one rating count for a given movie (here movie 2)\n",
    "#num = movie_rat_count[movie_rat_count['movieId'] == 2].reset_index()\n",
    "#num = num.loc[0, 'rating']\n",
    "#num"
   ]
  },
  {
   "cell_type": "markdown",
   "metadata": {},
   "source": [
    "#### Define Reader &\n",
    "#### Load the data frame into data (here: userId, movieId and rating column)"
   ]
  },
  {
   "cell_type": "code",
   "execution_count": 7,
   "metadata": {},
   "outputs": [],
   "source": [
    "reader = Reader(rating_scale=(0.5,5))\n",
    "data = Dataset.load_from_df(ratings[['userId', 'movieId', 'rating']], reader)"
   ]
  },
  {
   "cell_type": "markdown",
   "metadata": {},
   "source": [
    "#### Function for Top N Recommendations"
   ]
  },
  {
   "cell_type": "code",
   "execution_count": 8,
   "metadata": {},
   "outputs": [],
   "source": [
    "# ORIGINAL\n",
    "# from the surprise documentation\n",
    "# with the extension of a recommendation dictionary\n",
    "\n",
    "from collections import defaultdict\n",
    "\n",
    "\n",
    "def get_top_n(predictions, n=10):\n",
    "    \"\"\"Return the top-N recommendation for each user from a set of predictions.\n",
    "\n",
    "    Args:\n",
    "        predictions(list of Prediction objects): The list of predictions, as\n",
    "            returned by the test method of an algorithm.\n",
    "        n(int): The number of recommendation to output for each user. Default\n",
    "            is 10.\n",
    "\n",
    "    Returns:\n",
    "    A dict where keys are user (raw) ids and values are lists of tuples:\n",
    "        [(raw item id, rating estimation), ...] of size n.\n",
    "    \"\"\"\n",
    "\n",
    "    # First map the predictions to each user.\n",
    "    top_n = defaultdict(list)\n",
    "    for uid, iid, true_r, est, _ in predictions:\n",
    "        top_n[uid].append((iid, est)) # append number of ratings\n",
    "\n",
    "    # Then sort the predictions for each user and retrieve the k highest ones.\n",
    "    for uid, user_ratings in top_n.items():\n",
    "        user_ratings.sort(key=lambda x: x[1], reverse=True)\n",
    "        top_n[uid] = user_ratings[:n]\n",
    "\n",
    "    return top_n"
   ]
  },
  {
   "cell_type": "markdown",
   "metadata": {},
   "source": [
    "## Recommendations with SVD (Single Value Decomposition)"
   ]
  },
  {
   "cell_type": "code",
   "execution_count": 9,
   "metadata": {},
   "outputs": [
    {
     "name": "stdout",
     "output_type": "stream",
     "text": [
      "Estimating biases using als...\n",
      "Computing the pearson_baseline similarity matrix...\n",
      "Done computing similarity matrix.\n"
     ]
    }
   ],
   "source": [
    "# First train an SVD algorithm on the movielens dataset.\n",
    "#data = Dataset.load_from_df(ratings[['userId', 'movieId', 'rating']], reader)\n",
    "trainset = data.build_full_trainset()\n",
    "\n",
    "# KNNBaseline\n",
    "sim_options = {'name': 'pearson_baseline',\n",
    "               'user_based': False  # compute  similarities between items\n",
    "               }\n",
    "algo = KNNBaseline(sim_options=sim_options, random_state=RSEED)\n",
    "\n",
    "algo.fit(trainset)\n",
    "\n",
    "# Than predict ratings for all pairs (u, i) that are NOT in the training set.\n",
    "testset = trainset.build_anti_testset()\n",
    "predictions = algo.test(testset)\n",
    "\n",
    "top_n = get_top_n(predictions, n=100)\n",
    "\n",
    "    # Print the recommended items for each user\n",
    "#for uid, user_ratings in top_n.items():\n",
    "#        print(uid,[iid for (iid, _) in user_ratings]) # prints recommendations for each user"
   ]
  },
  {
   "cell_type": "markdown",
   "metadata": {},
   "source": [
    "In 'top_n' you get a dictionary for each user:\n",
    "key: user ID\n",
    "value: List of tuples (movieId, predicted rating), sorted by predicted rating"
   ]
  },
  {
   "cell_type": "code",
   "execution_count": 10,
   "metadata": {},
   "outputs": [
    {
     "data": {
      "text/plain": [
       "(318, 5)"
      ]
     },
     "execution_count": 10,
     "metadata": {},
     "output_type": "execute_result"
    }
   ],
   "source": [
    "# for example\n",
    "top_n[1][0] # user 1 recommendation 1 (movieId, prediction)"
   ]
  },
  {
   "cell_type": "code",
   "execution_count": 11,
   "metadata": {},
   "outputs": [],
   "source": [
    "# if you want to look at the titles of the recommended movies\n",
    "def get_recomm_for_user(user):\n",
    "    for i,j in enumerate(top_n[user]):\n",
    "        movie = movies[movies['movieId']==j[0]].title\n",
    "        #print('{}. Movie: {}'.format(i+1, movie.iloc[0]))\n",
    "\n",
    "get_recomm_for_user(1)"
   ]
  },
  {
   "cell_type": "markdown",
   "metadata": {},
   "source": [
    "# Save recommendations as csv file:"
   ]
  },
  {
   "cell_type": "markdown",
   "metadata": {},
   "source": [
    "Make to dictionaries, e.g.:\n",
    "1. key : [1, 2, 3]\n",
    "2. key : [[1, 2, 3]]"
   ]
  },
  {
   "cell_type": "code",
   "execution_count": 12,
   "metadata": {},
   "outputs": [],
   "source": [
    "recommendations_knn = {}\n",
    "for i in range(1, 611) :\n",
    "    l = []\n",
    "    for j in range(100) :\n",
    "        reco = top_n[i][j][0]\n",
    "        l.append(str(reco))\n",
    "    recommendations_knn[i] = l"
   ]
  },
  {
   "cell_type": "code",
   "execution_count": 23,
   "metadata": {},
   "outputs": [
    {
     "data": {
      "text/plain": [
       "' recommendations2 = {}\\nfor i in range(1, 611) :\\n    l = []\\n    for j in range(100) :\\n        reco = top_n[i][j][0]\\n        l.append(str(reco))\\n    recommendations2[i] = [l] '"
      ]
     },
     "execution_count": 23,
     "metadata": {},
     "output_type": "execute_result"
    }
   ],
   "source": [
    "\"\"\" recommendations2 = {}\n",
    "for i in range(1, 611) :\n",
    "    l = []\n",
    "    for j in range(100) :\n",
    "        reco = top_n[i][j][0]\n",
    "        l.append(str(reco))\n",
    "    recommendations2[i] = [l] \"\"\""
   ]
  },
  {
   "cell_type": "markdown",
   "metadata": {},
   "source": [
    "Make dataframes:"
   ]
  },
  {
   "cell_type": "code",
   "execution_count": 13,
   "metadata": {},
   "outputs": [],
   "source": [
    "top_recomm_knn = pd.DataFrame.from_dict(recommendations_knn, orient='index')"
   ]
  },
  {
   "cell_type": "code",
   "execution_count": 24,
   "metadata": {},
   "outputs": [],
   "source": [
    "#top_recomm2 = pd.DataFrame.from_dict(recommendations2, orient='index')"
   ]
  },
  {
   "cell_type": "markdown",
   "metadata": {},
   "source": [
    "The first one has got the userId as index and then every movie recommendation as one column:"
   ]
  },
  {
   "cell_type": "code",
   "execution_count": 14,
   "metadata": {},
   "outputs": [
    {
     "data": {
      "text/html": [
       "<div>\n",
       "<style scoped>\n",
       "    .dataframe tbody tr th:only-of-type {\n",
       "        vertical-align: middle;\n",
       "    }\n",
       "\n",
       "    .dataframe tbody tr th {\n",
       "        vertical-align: top;\n",
       "    }\n",
       "\n",
       "    .dataframe thead th {\n",
       "        text-align: right;\n",
       "    }\n",
       "</style>\n",
       "<table border=\"1\" class=\"dataframe\">\n",
       "  <thead>\n",
       "    <tr style=\"text-align: right;\">\n",
       "      <th></th>\n",
       "      <th>0</th>\n",
       "      <th>1</th>\n",
       "      <th>2</th>\n",
       "      <th>3</th>\n",
       "      <th>4</th>\n",
       "      <th>5</th>\n",
       "      <th>6</th>\n",
       "      <th>7</th>\n",
       "      <th>8</th>\n",
       "      <th>9</th>\n",
       "      <th>...</th>\n",
       "      <th>90</th>\n",
       "      <th>91</th>\n",
       "      <th>92</th>\n",
       "      <th>93</th>\n",
       "      <th>94</th>\n",
       "      <th>95</th>\n",
       "      <th>96</th>\n",
       "      <th>97</th>\n",
       "      <th>98</th>\n",
       "      <th>99</th>\n",
       "    </tr>\n",
       "  </thead>\n",
       "  <tbody>\n",
       "    <tr>\n",
       "      <th>1</th>\n",
       "      <td>318</td>\n",
       "      <td>908</td>\n",
       "      <td>912</td>\n",
       "      <td>1276</td>\n",
       "      <td>1262</td>\n",
       "      <td>4466</td>\n",
       "      <td>750</td>\n",
       "      <td>4294</td>\n",
       "      <td>7153</td>\n",
       "      <td>164917</td>\n",
       "      <td>...</td>\n",
       "      <td>3897</td>\n",
       "      <td>5995</td>\n",
       "      <td>541</td>\n",
       "      <td>2788</td>\n",
       "      <td>54503</td>\n",
       "      <td>913</td>\n",
       "      <td>57669</td>\n",
       "      <td>741</td>\n",
       "      <td>1203</td>\n",
       "      <td>51255</td>\n",
       "    </tr>\n",
       "    <tr>\n",
       "      <th>2</th>\n",
       "      <td>160718</td>\n",
       "      <td>7327</td>\n",
       "      <td>3992</td>\n",
       "      <td>100882</td>\n",
       "      <td>112460</td>\n",
       "      <td>136602</td>\n",
       "      <td>50003</td>\n",
       "      <td>73042</td>\n",
       "      <td>1034</td>\n",
       "      <td>109850</td>\n",
       "      <td>...</td>\n",
       "      <td>46972</td>\n",
       "      <td>4349</td>\n",
       "      <td>1271</td>\n",
       "      <td>63276</td>\n",
       "      <td>99437</td>\n",
       "      <td>6</td>\n",
       "      <td>48161</td>\n",
       "      <td>2297</td>\n",
       "      <td>805</td>\n",
       "      <td>1687</td>\n",
       "    </tr>\n",
       "    <tr>\n",
       "      <th>3</th>\n",
       "      <td>1004</td>\n",
       "      <td>2733</td>\n",
       "      <td>3064</td>\n",
       "      <td>3190</td>\n",
       "      <td>3370</td>\n",
       "      <td>3901</td>\n",
       "      <td>4079</td>\n",
       "      <td>85</td>\n",
       "      <td>104925</td>\n",
       "      <td>634</td>\n",
       "      <td>...</td>\n",
       "      <td>2287</td>\n",
       "      <td>168248</td>\n",
       "      <td>120799</td>\n",
       "      <td>3550</td>\n",
       "      <td>3432</td>\n",
       "      <td>73211</td>\n",
       "      <td>61</td>\n",
       "      <td>84414</td>\n",
       "      <td>5165</td>\n",
       "      <td>71304</td>\n",
       "    </tr>\n",
       "    <tr>\n",
       "      <th>4</th>\n",
       "      <td>26524</td>\n",
       "      <td>71429</td>\n",
       "      <td>5113</td>\n",
       "      <td>779</td>\n",
       "      <td>70946</td>\n",
       "      <td>4092</td>\n",
       "      <td>43869</td>\n",
       "      <td>40870</td>\n",
       "      <td>568</td>\n",
       "      <td>26116</td>\n",
       "      <td>...</td>\n",
       "      <td>116797</td>\n",
       "      <td>1228</td>\n",
       "      <td>1495</td>\n",
       "      <td>5782</td>\n",
       "      <td>6807</td>\n",
       "      <td>1035</td>\n",
       "      <td>3147</td>\n",
       "      <td>3671</td>\n",
       "      <td>3471</td>\n",
       "      <td>3089</td>\n",
       "    </tr>\n",
       "    <tr>\n",
       "      <th>5</th>\n",
       "      <td>6239</td>\n",
       "      <td>112804</td>\n",
       "      <td>389</td>\n",
       "      <td>3330</td>\n",
       "      <td>26810</td>\n",
       "      <td>51937</td>\n",
       "      <td>67186</td>\n",
       "      <td>6235</td>\n",
       "      <td>8782</td>\n",
       "      <td>6616</td>\n",
       "      <td>...</td>\n",
       "      <td>2791</td>\n",
       "      <td>52579</td>\n",
       "      <td>8254</td>\n",
       "      <td>104879</td>\n",
       "      <td>4959</td>\n",
       "      <td>6244</td>\n",
       "      <td>50274</td>\n",
       "      <td>99145</td>\n",
       "      <td>1225</td>\n",
       "      <td>98122</td>\n",
       "    </tr>\n",
       "    <tr>\n",
       "      <th>6</th>\n",
       "      <td>53</td>\n",
       "      <td>32289</td>\n",
       "      <td>60516</td>\n",
       "      <td>80615</td>\n",
       "      <td>4429</td>\n",
       "      <td>70641</td>\n",
       "      <td>70305</td>\n",
       "      <td>3042</td>\n",
       "      <td>74282</td>\n",
       "      <td>6858</td>\n",
       "      <td>...</td>\n",
       "      <td>238</td>\n",
       "      <td>141890</td>\n",
       "      <td>160567</td>\n",
       "      <td>72641</td>\n",
       "      <td>80241</td>\n",
       "      <td>93443</td>\n",
       "      <td>8605</td>\n",
       "      <td>1270</td>\n",
       "      <td>7888</td>\n",
       "      <td>80549</td>\n",
       "    </tr>\n",
       "    <tr>\n",
       "      <th>7</th>\n",
       "      <td>511</td>\n",
       "      <td>2977</td>\n",
       "      <td>4337</td>\n",
       "      <td>4708</td>\n",
       "      <td>1341</td>\n",
       "      <td>92422</td>\n",
       "      <td>4711</td>\n",
       "      <td>142115</td>\n",
       "      <td>1624</td>\n",
       "      <td>5113</td>\n",
       "      <td>...</td>\n",
       "      <td>94130</td>\n",
       "      <td>2947</td>\n",
       "      <td>6858</td>\n",
       "      <td>148652</td>\n",
       "      <td>1192</td>\n",
       "      <td>8477</td>\n",
       "      <td>527</td>\n",
       "      <td>172547</td>\n",
       "      <td>143257</td>\n",
       "      <td>945</td>\n",
       "    </tr>\n",
       "    <tr>\n",
       "      <th>8</th>\n",
       "      <td>7486</td>\n",
       "      <td>549</td>\n",
       "      <td>5279</td>\n",
       "      <td>1085</td>\n",
       "      <td>4297</td>\n",
       "      <td>27664</td>\n",
       "      <td>635</td>\n",
       "      <td>3963</td>\n",
       "      <td>6884</td>\n",
       "      <td>31431</td>\n",
       "      <td>...</td>\n",
       "      <td>3362</td>\n",
       "      <td>497</td>\n",
       "      <td>1196</td>\n",
       "      <td>1276</td>\n",
       "      <td>1272</td>\n",
       "      <td>4021</td>\n",
       "      <td>92259</td>\n",
       "      <td>2324</td>\n",
       "      <td>2599</td>\n",
       "      <td>8014</td>\n",
       "    </tr>\n",
       "    <tr>\n",
       "      <th>9</th>\n",
       "      <td>70946</td>\n",
       "      <td>64032</td>\n",
       "      <td>134368</td>\n",
       "      <td>159817</td>\n",
       "      <td>4079</td>\n",
       "      <td>74508</td>\n",
       "      <td>151739</td>\n",
       "      <td>26184</td>\n",
       "      <td>64116</td>\n",
       "      <td>100507</td>\n",
       "      <td>...</td>\n",
       "      <td>8643</td>\n",
       "      <td>62970</td>\n",
       "      <td>1219</td>\n",
       "      <td>1252</td>\n",
       "      <td>8405</td>\n",
       "      <td>1596</td>\n",
       "      <td>1617</td>\n",
       "      <td>112421</td>\n",
       "      <td>140174</td>\n",
       "      <td>48516</td>\n",
       "    </tr>\n",
       "    <tr>\n",
       "      <th>10</th>\n",
       "      <td>130087</td>\n",
       "      <td>7395</td>\n",
       "      <td>80727</td>\n",
       "      <td>6143</td>\n",
       "      <td>112460</td>\n",
       "      <td>5529</td>\n",
       "      <td>109848</td>\n",
       "      <td>68959</td>\n",
       "      <td>97866</td>\n",
       "      <td>26052</td>\n",
       "      <td>...</td>\n",
       "      <td>122896</td>\n",
       "      <td>7142</td>\n",
       "      <td>33499</td>\n",
       "      <td>89582</td>\n",
       "      <td>150</td>\n",
       "      <td>2477</td>\n",
       "      <td>595</td>\n",
       "      <td>6374</td>\n",
       "      <td>26606</td>\n",
       "      <td>42</td>\n",
       "    </tr>\n",
       "  </tbody>\n",
       "</table>\n",
       "<p>10 rows × 100 columns</p>\n",
       "</div>"
      ],
      "text/plain": [
       "        0       1       2       3       4       5       6       7       8   \\\n",
       "1      318     908     912    1276    1262    4466     750    4294    7153   \n",
       "2   160718    7327    3992  100882  112460  136602   50003   73042    1034   \n",
       "3     1004    2733    3064    3190    3370    3901    4079      85  104925   \n",
       "4    26524   71429    5113     779   70946    4092   43869   40870     568   \n",
       "5     6239  112804     389    3330   26810   51937   67186    6235    8782   \n",
       "6       53   32289   60516   80615    4429   70641   70305    3042   74282   \n",
       "7      511    2977    4337    4708    1341   92422    4711  142115    1624   \n",
       "8     7486     549    5279    1085    4297   27664     635    3963    6884   \n",
       "9    70946   64032  134368  159817    4079   74508  151739   26184   64116   \n",
       "10  130087    7395   80727    6143  112460    5529  109848   68959   97866   \n",
       "\n",
       "        9   ...      90      91      92      93     94     95     96      97  \\\n",
       "1   164917  ...    3897    5995     541    2788  54503    913  57669     741   \n",
       "2   109850  ...   46972    4349    1271   63276  99437      6  48161    2297   \n",
       "3      634  ...    2287  168248  120799    3550   3432  73211     61   84414   \n",
       "4    26116  ...  116797    1228    1495    5782   6807   1035   3147    3671   \n",
       "5     6616  ...    2791   52579    8254  104879   4959   6244  50274   99145   \n",
       "6     6858  ...     238  141890  160567   72641  80241  93443   8605    1270   \n",
       "7     5113  ...   94130    2947    6858  148652   1192   8477    527  172547   \n",
       "8    31431  ...    3362     497    1196    1276   1272   4021  92259    2324   \n",
       "9   100507  ...    8643   62970    1219    1252   8405   1596   1617  112421   \n",
       "10   26052  ...  122896    7142   33499   89582    150   2477    595    6374   \n",
       "\n",
       "        98     99  \n",
       "1     1203  51255  \n",
       "2      805   1687  \n",
       "3     5165  71304  \n",
       "4     3471   3089  \n",
       "5     1225  98122  \n",
       "6     7888  80549  \n",
       "7   143257    945  \n",
       "8     2599   8014  \n",
       "9   140174  48516  \n",
       "10   26606     42  \n",
       "\n",
       "[10 rows x 100 columns]"
      ]
     },
     "execution_count": 14,
     "metadata": {},
     "output_type": "execute_result"
    }
   ],
   "source": [
    "top_recomm_knn.head(10)"
   ]
  },
  {
   "cell_type": "markdown",
   "metadata": {},
   "source": [
    "The second one has got a list with all recommendations in one column:"
   ]
  },
  {
   "cell_type": "code",
   "execution_count": 25,
   "metadata": {},
   "outputs": [],
   "source": [
    "#top_recomm2.head(11)"
   ]
  },
  {
   "cell_type": "markdown",
   "metadata": {},
   "source": [
    "Export as csv files:"
   ]
  },
  {
   "cell_type": "markdown",
   "metadata": {},
   "source": [
    "# recommendations KNN:\n",
    "+ index - userId - every recommendation in a separate column:"
   ]
  },
  {
   "cell_type": "code",
   "execution_count": 15,
   "metadata": {},
   "outputs": [],
   "source": [
    "# export new data to csv. file\n",
    "top_recomm_knn.to_csv('../data/recommendations_knn.csv', index_label='userId')"
   ]
  },
  {
   "cell_type": "markdown",
   "metadata": {},
   "source": [
    "## recommendations2:\n",
    "+ index - userId - one column with a list of all recommendations:"
   ]
  },
  {
   "cell_type": "code",
   "execution_count": 26,
   "metadata": {},
   "outputs": [],
   "source": [
    "#top_recomm2.to_csv('../data/recommendations2.csv',index=True, index_label='userId', header=['recommendations'])"
   ]
  },
  {
   "cell_type": "markdown",
   "metadata": {},
   "source": [
    "# END of RECOMMENDATIONS with KNN"
   ]
  }
 ],
 "metadata": {
  "interpreter": {
   "hash": "b1d3e849b47b764d0f3ac79546b2fdec71084d637cd1155750be66ff33c37197"
  },
  "kernelspec": {
   "display_name": "Python 3.9.4 64-bit ('.venv': venv)",
   "name": "python3"
  },
  "language_info": {
   "codemirror_mode": {
    "name": "ipython",
    "version": 3
   },
   "file_extension": ".py",
   "mimetype": "text/x-python",
   "name": "python",
   "nbconvert_exporter": "python",
   "pygments_lexer": "ipython3",
   "version": "3.9.4"
  },
  "orig_nbformat": 4
 },
 "nbformat": 4,
 "nbformat_minor": 2
}
